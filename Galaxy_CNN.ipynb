{
 "cells": [
  {
   "cell_type": "markdown",
   "id": "cdba693d-36cb-4476-8843-429777f0a538",
   "metadata": {},
   "source": [
    "# Importing Necessary Libraries"
   ]
  },
  {
   "cell_type": "code",
   "execution_count": 29,
   "id": "ee064dc5-502a-41b0-97a2-850f86d472f3",
   "metadata": {},
   "outputs": [
    {
     "name": "stdout",
     "output_type": "stream",
     "text": [
      "Requirement already satisfied: astroNN in c:\\users\\first one\\anaconda3\\envs\\ayat\\lib\\site-packages (1.1.0)\n",
      "Requirement already satisfied: numpy in c:\\users\\first one\\anaconda3\\envs\\ayat\\lib\\site-packages (from astroNN) (1.25.2)\n",
      "Requirement already satisfied: astropy in c:\\users\\first one\\anaconda3\\envs\\ayat\\lib\\site-packages (from astroNN) (6.0.0)\n",
      "Requirement already satisfied: h5py in c:\\users\\first one\\anaconda3\\envs\\ayat\\lib\\site-packages (from astroNN) (3.10.0)\n",
      "Requirement already satisfied: matplotlib in c:\\users\\first one\\anaconda3\\envs\\ayat\\lib\\site-packages (from astroNN) (3.8.2)\n",
      "Requirement already satisfied: astroquery in c:\\users\\first one\\anaconda3\\envs\\ayat\\lib\\site-packages (from astroNN) (0.4.7)\n",
      "Requirement already satisfied: pandas in c:\\users\\first one\\anaconda3\\envs\\ayat\\lib\\site-packages (from astroNN) (2.1.4)\n",
      "Requirement already satisfied: scikit-learn in c:\\users\\first one\\anaconda3\\envs\\ayat\\lib\\site-packages (from astroNN) (1.3.2)\n",
      "Requirement already satisfied: tqdm in c:\\users\\first one\\anaconda3\\envs\\ayat\\lib\\site-packages (from astroNN) (4.65.0)\n",
      "Requirement already satisfied: packaging in c:\\users\\first one\\appdata\\roaming\\python\\python311\\site-packages (from astroNN) (23.2)\n",
      "Requirement already satisfied: tensorflow>=2.11.0 in c:\\users\\first one\\anaconda3\\envs\\ayat\\lib\\site-packages (from astroNN) (2.15.0)\n",
      "Requirement already satisfied: tensorflow-probability>=0.19.0 in c:\\users\\first one\\anaconda3\\envs\\ayat\\lib\\site-packages (from astroNN) (0.24.0)\n",
      "Requirement already satisfied: tensorflow-intel==2.15.0 in c:\\users\\first one\\anaconda3\\envs\\ayat\\lib\\site-packages (from tensorflow>=2.11.0->astroNN) (2.15.0)\n",
      "Requirement already satisfied: absl-py>=1.0.0 in c:\\users\\first one\\anaconda3\\envs\\ayat\\lib\\site-packages (from tensorflow-intel==2.15.0->tensorflow>=2.11.0->astroNN) (2.0.0)\n",
      "Requirement already satisfied: astunparse>=1.6.0 in c:\\users\\first one\\anaconda3\\envs\\ayat\\lib\\site-packages (from tensorflow-intel==2.15.0->tensorflow>=2.11.0->astroNN) (1.6.3)\n",
      "Requirement already satisfied: flatbuffers>=23.5.26 in c:\\users\\first one\\anaconda3\\envs\\ayat\\lib\\site-packages (from tensorflow-intel==2.15.0->tensorflow>=2.11.0->astroNN) (23.5.26)\n",
      "Requirement already satisfied: gast!=0.5.0,!=0.5.1,!=0.5.2,>=0.2.1 in c:\\users\\first one\\anaconda3\\envs\\ayat\\lib\\site-packages (from tensorflow-intel==2.15.0->tensorflow>=2.11.0->astroNN) (0.5.4)\n",
      "Requirement already satisfied: google-pasta>=0.1.1 in c:\\users\\first one\\anaconda3\\envs\\ayat\\lib\\site-packages (from tensorflow-intel==2.15.0->tensorflow>=2.11.0->astroNN) (0.2.0)\n",
      "Requirement already satisfied: libclang>=13.0.0 in c:\\users\\first one\\anaconda3\\envs\\ayat\\lib\\site-packages (from tensorflow-intel==2.15.0->tensorflow>=2.11.0->astroNN) (16.0.6)\n",
      "Requirement already satisfied: ml-dtypes~=0.2.0 in c:\\users\\first one\\anaconda3\\envs\\ayat\\lib\\site-packages (from tensorflow-intel==2.15.0->tensorflow>=2.11.0->astroNN) (0.2.0)\n",
      "Requirement already satisfied: opt-einsum>=2.3.2 in c:\\users\\first one\\anaconda3\\envs\\ayat\\lib\\site-packages (from tensorflow-intel==2.15.0->tensorflow>=2.11.0->astroNN) (3.3.0)\n",
      "Requirement already satisfied: protobuf!=4.21.0,!=4.21.1,!=4.21.2,!=4.21.3,!=4.21.4,!=4.21.5,<5.0.0dev,>=3.20.3 in c:\\users\\first one\\anaconda3\\envs\\ayat\\lib\\site-packages (from tensorflow-intel==2.15.0->tensorflow>=2.11.0->astroNN) (4.23.4)\n",
      "Requirement already satisfied: setuptools in c:\\users\\first one\\anaconda3\\envs\\ayat\\lib\\site-packages (from tensorflow-intel==2.15.0->tensorflow>=2.11.0->astroNN) (68.2.2)\n",
      "Requirement already satisfied: six>=1.12.0 in c:\\users\\first one\\appdata\\roaming\\python\\python311\\site-packages (from tensorflow-intel==2.15.0->tensorflow>=2.11.0->astroNN) (1.16.0)\n",
      "Requirement already satisfied: termcolor>=1.1.0 in c:\\users\\first one\\anaconda3\\envs\\ayat\\lib\\site-packages (from tensorflow-intel==2.15.0->tensorflow>=2.11.0->astroNN) (2.4.0)\n",
      "Requirement already satisfied: typing-extensions>=3.6.6 in c:\\users\\first one\\anaconda3\\envs\\ayat\\lib\\site-packages (from tensorflow-intel==2.15.0->tensorflow>=2.11.0->astroNN) (4.7.1)\n",
      "Requirement already satisfied: wrapt<1.15,>=1.11.0 in c:\\users\\first one\\anaconda3\\envs\\ayat\\lib\\site-packages (from tensorflow-intel==2.15.0->tensorflow>=2.11.0->astroNN) (1.14.1)\n",
      "Requirement already satisfied: tensorflow-io-gcs-filesystem>=0.23.1 in c:\\users\\first one\\anaconda3\\envs\\ayat\\lib\\site-packages (from tensorflow-intel==2.15.0->tensorflow>=2.11.0->astroNN) (0.31.0)\n",
      "Requirement already satisfied: grpcio<2.0,>=1.24.3 in c:\\users\\first one\\anaconda3\\envs\\ayat\\lib\\site-packages (from tensorflow-intel==2.15.0->tensorflow>=2.11.0->astroNN) (1.60.0)\n",
      "Requirement already satisfied: tensorboard<2.16,>=2.15 in c:\\users\\first one\\anaconda3\\envs\\ayat\\lib\\site-packages (from tensorflow-intel==2.15.0->tensorflow>=2.11.0->astroNN) (2.15.1)\n",
      "Requirement already satisfied: tensorflow-estimator<2.16,>=2.15.0 in c:\\users\\first one\\anaconda3\\envs\\ayat\\lib\\site-packages (from tensorflow-intel==2.15.0->tensorflow>=2.11.0->astroNN) (2.15.0)\n",
      "Requirement already satisfied: keras<2.16,>=2.15.0 in c:\\users\\first one\\anaconda3\\envs\\ayat\\lib\\site-packages (from tensorflow-intel==2.15.0->tensorflow>=2.11.0->astroNN) (2.15.0)\n",
      "Requirement already satisfied: decorator in c:\\users\\first one\\appdata\\roaming\\python\\python311\\site-packages (from tensorflow-probability>=0.19.0->astroNN) (5.1.1)\n",
      "Requirement already satisfied: cloudpickle>=1.3 in c:\\users\\first one\\anaconda3\\envs\\ayat\\lib\\site-packages (from tensorflow-probability>=0.19.0->astroNN) (3.0.0)\n",
      "Requirement already satisfied: dm-tree in c:\\users\\first one\\anaconda3\\envs\\ayat\\lib\\site-packages (from tensorflow-probability>=0.19.0->astroNN) (0.1.8)\n",
      "Requirement already satisfied: pyerfa>=2.0 in c:\\users\\first one\\anaconda3\\envs\\ayat\\lib\\site-packages (from astropy->astroNN) (2.0.1.1)\n",
      "Requirement already satisfied: astropy-iers-data>=0.2023.10.30.0.29.53 in c:\\users\\first one\\anaconda3\\envs\\ayat\\lib\\site-packages (from astropy->astroNN) (0.2024.3.18.0.29.47)\n",
      "Requirement already satisfied: PyYAML>=3.13 in c:\\users\\first one\\anaconda3\\envs\\ayat\\lib\\site-packages (from astropy->astroNN) (6.0.1)\n",
      "Requirement already satisfied: requests>=2.19 in c:\\users\\first one\\anaconda3\\envs\\ayat\\lib\\site-packages (from astroquery->astroNN) (2.31.0)\n",
      "Requirement already satisfied: beautifulsoup4>=4.8 in c:\\users\\first one\\anaconda3\\envs\\ayat\\lib\\site-packages (from astroquery->astroNN) (4.12.2)\n",
      "Requirement already satisfied: html5lib>=0.999 in c:\\users\\first one\\anaconda3\\envs\\ayat\\lib\\site-packages (from astroquery->astroNN) (1.1)\n",
      "Requirement already satisfied: keyring>=15.0 in c:\\users\\first one\\anaconda3\\envs\\ayat\\lib\\site-packages (from astroquery->astroNN) (24.3.1)\n",
      "Requirement already satisfied: pyvo>=1.1 in c:\\users\\first one\\anaconda3\\envs\\ayat\\lib\\site-packages (from astroquery->astroNN) (1.5.1)\n",
      "Requirement already satisfied: contourpy>=1.0.1 in c:\\users\\first one\\anaconda3\\envs\\ayat\\lib\\site-packages (from matplotlib->astroNN) (1.2.0)\n",
      "Requirement already satisfied: cycler>=0.10 in c:\\users\\first one\\anaconda3\\envs\\ayat\\lib\\site-packages (from matplotlib->astroNN) (0.12.1)\n",
      "Requirement already satisfied: fonttools>=4.22.0 in c:\\users\\first one\\anaconda3\\envs\\ayat\\lib\\site-packages (from matplotlib->astroNN) (4.47.0)\n",
      "Requirement already satisfied: kiwisolver>=1.3.1 in c:\\users\\first one\\anaconda3\\envs\\ayat\\lib\\site-packages (from matplotlib->astroNN) (1.4.5)\n",
      "Requirement already satisfied: pillow>=8 in c:\\users\\first one\\anaconda3\\envs\\ayat\\lib\\site-packages (from matplotlib->astroNN) (10.2.0)\n",
      "Requirement already satisfied: pyparsing>=2.3.1 in c:\\users\\first one\\anaconda3\\envs\\ayat\\lib\\site-packages (from matplotlib->astroNN) (3.1.1)\n",
      "Requirement already satisfied: python-dateutil>=2.7 in c:\\users\\first one\\appdata\\roaming\\python\\python311\\site-packages (from matplotlib->astroNN) (2.8.2)\n",
      "Requirement already satisfied: pytz>=2020.1 in c:\\users\\first one\\anaconda3\\envs\\ayat\\lib\\site-packages (from pandas->astroNN) (2023.3.post1)\n",
      "Requirement already satisfied: tzdata>=2022.1 in c:\\users\\first one\\anaconda3\\envs\\ayat\\lib\\site-packages (from pandas->astroNN) (2023.4)\n",
      "Requirement already satisfied: scipy>=1.5.0 in c:\\users\\first one\\anaconda3\\envs\\ayat\\lib\\site-packages (from scikit-learn->astroNN) (1.11.4)\n",
      "Requirement already satisfied: joblib>=1.1.1 in c:\\users\\first one\\anaconda3\\envs\\ayat\\lib\\site-packages (from scikit-learn->astroNN) (1.3.2)\n",
      "Requirement already satisfied: threadpoolctl>=2.0.0 in c:\\users\\first one\\anaconda3\\envs\\ayat\\lib\\site-packages (from scikit-learn->astroNN) (3.2.0)\n",
      "Requirement already satisfied: colorama in c:\\users\\first one\\appdata\\roaming\\python\\python311\\site-packages (from tqdm->astroNN) (0.4.6)\n",
      "Requirement already satisfied: soupsieve>1.2 in c:\\users\\first one\\anaconda3\\envs\\ayat\\lib\\site-packages (from beautifulsoup4>=4.8->astroquery->astroNN) (2.5)\n",
      "Requirement already satisfied: webencodings in c:\\users\\first one\\anaconda3\\envs\\ayat\\lib\\site-packages (from html5lib>=0.999->astroquery->astroNN) (0.5.1)\n",
      "Requirement already satisfied: jaraco.classes in c:\\users\\first one\\anaconda3\\envs\\ayat\\lib\\site-packages (from keyring>=15.0->astroquery->astroNN) (3.3.1)\n",
      "Requirement already satisfied: importlib-metadata>=4.11.4 in c:\\users\\first one\\anaconda3\\envs\\ayat\\lib\\site-packages (from keyring>=15.0->astroquery->astroNN) (7.0.1)\n",
      "Requirement already satisfied: pywin32-ctypes>=0.2.0 in c:\\users\\first one\\anaconda3\\envs\\ayat\\lib\\site-packages (from keyring>=15.0->astroquery->astroNN) (0.2.2)\n",
      "Requirement already satisfied: charset-normalizer<4,>=2 in c:\\users\\first one\\anaconda3\\envs\\ayat\\lib\\site-packages (from requests>=2.19->astroquery->astroNN) (2.0.4)\n",
      "Requirement already satisfied: idna<4,>=2.5 in c:\\users\\first one\\anaconda3\\envs\\ayat\\lib\\site-packages (from requests>=2.19->astroquery->astroNN) (2.10)\n",
      "Requirement already satisfied: urllib3<3,>=1.21.1 in c:\\users\\first one\\anaconda3\\envs\\ayat\\lib\\site-packages (from requests>=2.19->astroquery->astroNN) (1.26.18)\n",
      "Requirement already satisfied: certifi>=2017.4.17 in c:\\users\\first one\\anaconda3\\envs\\ayat\\lib\\site-packages (from requests>=2.19->astroquery->astroNN) (2023.11.17)\n",
      "Requirement already satisfied: wheel<1.0,>=0.23.0 in c:\\users\\first one\\anaconda3\\envs\\ayat\\lib\\site-packages (from astunparse>=1.6.0->tensorflow-intel==2.15.0->tensorflow>=2.11.0->astroNN) (0.41.2)\n",
      "Requirement already satisfied: zipp>=0.5 in c:\\users\\first one\\anaconda3\\envs\\ayat\\lib\\site-packages (from importlib-metadata>=4.11.4->keyring>=15.0->astroquery->astroNN) (3.17.0)\n",
      "Requirement already satisfied: google-auth<3,>=1.6.3 in c:\\users\\first one\\anaconda3\\envs\\ayat\\lib\\site-packages (from tensorboard<2.16,>=2.15->tensorflow-intel==2.15.0->tensorflow>=2.11.0->astroNN) (2.26.2)\n",
      "Requirement already satisfied: google-auth-oauthlib<2,>=0.5 in c:\\users\\first one\\anaconda3\\envs\\ayat\\lib\\site-packages (from tensorboard<2.16,>=2.15->tensorflow-intel==2.15.0->tensorflow>=2.11.0->astroNN) (1.2.0)\n",
      "Requirement already satisfied: markdown>=2.6.8 in c:\\users\\first one\\anaconda3\\envs\\ayat\\lib\\site-packages (from tensorboard<2.16,>=2.15->tensorflow-intel==2.15.0->tensorflow>=2.11.0->astroNN) (3.5.2)\n",
      "Requirement already satisfied: tensorboard-data-server<0.8.0,>=0.7.0 in c:\\users\\first one\\anaconda3\\envs\\ayat\\lib\\site-packages (from tensorboard<2.16,>=2.15->tensorflow-intel==2.15.0->tensorflow>=2.11.0->astroNN) (0.7.2)\n",
      "Requirement already satisfied: werkzeug>=1.0.1 in c:\\users\\first one\\anaconda3\\envs\\ayat\\lib\\site-packages (from tensorboard<2.16,>=2.15->tensorflow-intel==2.15.0->tensorflow>=2.11.0->astroNN) (3.0.1)\n",
      "Requirement already satisfied: more-itertools in c:\\users\\first one\\anaconda3\\envs\\ayat\\lib\\site-packages (from jaraco.classes->keyring>=15.0->astroquery->astroNN) (10.2.0)\n",
      "Requirement already satisfied: cachetools<6.0,>=2.0.0 in c:\\users\\first one\\anaconda3\\envs\\ayat\\lib\\site-packages (from google-auth<3,>=1.6.3->tensorboard<2.16,>=2.15->tensorflow-intel==2.15.0->tensorflow>=2.11.0->astroNN) (5.3.2)\n",
      "Requirement already satisfied: pyasn1-modules>=0.2.1 in c:\\users\\first one\\anaconda3\\envs\\ayat\\lib\\site-packages (from google-auth<3,>=1.6.3->tensorboard<2.16,>=2.15->tensorflow-intel==2.15.0->tensorflow>=2.11.0->astroNN) (0.3.0)\n",
      "Requirement already satisfied: rsa<5,>=3.1.4 in c:\\users\\first one\\anaconda3\\envs\\ayat\\lib\\site-packages (from google-auth<3,>=1.6.3->tensorboard<2.16,>=2.15->tensorflow-intel==2.15.0->tensorflow>=2.11.0->astroNN) (4.9)\n",
      "Requirement already satisfied: requests-oauthlib>=0.7.0 in c:\\users\\first one\\anaconda3\\envs\\ayat\\lib\\site-packages (from google-auth-oauthlib<2,>=0.5->tensorboard<2.16,>=2.15->tensorflow-intel==2.15.0->tensorflow>=2.11.0->astroNN) (1.3.1)\n",
      "Requirement already satisfied: MarkupSafe>=2.1.1 in c:\\users\\first one\\anaconda3\\envs\\ayat\\lib\\site-packages (from werkzeug>=1.0.1->tensorboard<2.16,>=2.15->tensorflow-intel==2.15.0->tensorflow>=2.11.0->astroNN) (2.1.3)\n",
      "Requirement already satisfied: pyasn1<0.6.0,>=0.4.6 in c:\\users\\first one\\anaconda3\\envs\\ayat\\lib\\site-packages (from pyasn1-modules>=0.2.1->google-auth<3,>=1.6.3->tensorboard<2.16,>=2.15->tensorflow-intel==2.15.0->tensorflow>=2.11.0->astroNN) (0.5.1)\n",
      "Requirement already satisfied: oauthlib>=3.0.0 in c:\\users\\first one\\anaconda3\\envs\\ayat\\lib\\site-packages (from requests-oauthlib>=0.7.0->google-auth-oauthlib<2,>=0.5->tensorboard<2.16,>=2.15->tensorflow-intel==2.15.0->tensorflow>=2.11.0->astroNN) (3.2.2)\n"
     ]
    }
   ],
   "source": [
    "! pip install astroNN\n",
    "import tensorflow as tf\n",
    "import matplotlib.pyplot as plt\n",
    "import pandas as pd\n",
    "import seaborn as sns\n",
    "import numpy as np\n",
    "from tensorflow import keras"
   ]
  },
  {
   "cell_type": "code",
   "execution_count": 30,
   "id": "b6eadc45-1ca4-45b5-bb16-1562136b452b",
   "metadata": {},
   "outputs": [],
   "source": [
    "from keras.models import Sequential\n",
    "from keras.layers import Conv2D, AveragePooling2D, MaxPooling2D, Flatten, Dense, Dropout, MaxPool2D\n",
    "from keras.callbacks import ReduceLROnPlateau\n",
    "from keras.optimizers import Adam\n",
    "\n",
    "import sklearn\n",
    "from sklearn.model_selection import train_test_split\n",
    "from sklearn.metrics import classification_report,confusion_matrix\n",
    "from tensorflow.keras import utils\n",
    "\n",
    "from astroNN.datasets import galaxy10\n",
    "from astroNN.datasets.galaxy10 import galaxy10cls_lookup\n",
    "from tensorflow.keras import models, layers\n",
    "from tensorflow.keras.callbacks import EarlyStopping"
   ]
  },
  {
   "cell_type": "code",
   "execution_count": 31,
   "id": "4875a178-2486-4839-b003-f81d5e4069c9",
   "metadata": {},
   "outputs": [
    {
     "name": "stdout",
     "output_type": "stream",
     "text": [
      "C:\\Users\\First One\\.astroNN\\datasets\\Galaxy10_DECals.h5 was found!\n"
     ]
    }
   ],
   "source": [
    "images, labels = galaxy10.load_data()"
   ]
  },
  {
   "cell_type": "code",
   "execution_count": 4,
   "id": "3d4468e5-4401-4227-9215-07babf9d174a",
   "metadata": {},
   "outputs": [
    {
     "name": "stdout",
     "output_type": "stream",
     "text": [
      "All images have the same shape: (256, 256, 3)\n"
     ]
    }
   ],
   "source": [
    "def print_unique_image_shapes(images):\n",
    "  unique_shapes = set(image.shape for image in images)\n",
    "  if len(unique_shapes) == 1:\n",
    "    print(\"All images have the same shape:\", unique_shapes.pop())\n",
    "  else:\n",
    "    print(\"Unique image shapes:\")\n",
    "    for shape in unique_shapes:\n",
    "      print(f\"-\", shape)\n",
    "print_unique_image_shapes(images)"
   ]
  },
  {
   "cell_type": "code",
   "execution_count": 32,
   "id": "81e7a9c8-8dd3-448f-853d-5709d58ab93d",
   "metadata": {},
   "outputs": [],
   "source": [
    "x_train, x_test, y_train, y_test = train_test_split(images, labels, test_size=0.2)"
   ]
  },
  {
   "cell_type": "code",
   "execution_count": 33,
   "id": "5dca49c8-113a-47c5-9149-9b4c60f9bbe9",
   "metadata": {},
   "outputs": [],
   "source": [
    "x_train, x_val, y_train, y_val = train_test_split(x_train, y_train, test_size=0.2, random_state=42)"
   ]
  },
  {
   "cell_type": "code",
   "execution_count": 34,
   "id": "bb0cffe6-0070-4297-a972-4b1ed4b5054c",
   "metadata": {},
   "outputs": [],
   "source": [
    "x_train = x_train / 255.0\n",
    "x_test = x_test / 255.0\n",
    "x_val = x_val / 255.0"
   ]
  },
  {
   "cell_type": "code",
   "execution_count": 35,
   "id": "16944fe3-9e97-4493-9300-003d8c5e9229",
   "metadata": {},
   "outputs": [],
   "source": [
    "x_train = x_train.astype('float32')\n",
    "y_train = y_train.astype('float32')\n",
    "x_val = x_val.astype('float32')\n",
    "y_val = y_val.astype('float32')\n",
    "x_test = x_test.astype('float32')\n",
    "y_test = y_test.astype('float32')"
   ]
  },
  {
   "cell_type": "code",
   "execution_count": 36,
   "id": "16561d77-696e-405f-821e-73f4fa6c4a4b",
   "metadata": {},
   "outputs": [],
   "source": [
    "num_classes = len(np.unique(y_train))"
   ]
  },
  {
   "cell_type": "code",
   "execution_count": 10,
   "id": "66122a49-8c28-4bb0-b42a-47f82ed15737",
   "metadata": {},
   "outputs": [
    {
     "data": {
      "image/png": "[encoded data removed]",
      "text/plain": [
       "<Figure size 640x480 with 1 Axes>"
      ]
     },
     "metadata": {},
     "output_type": "display_data"
    }
   ],
   "source": [
    "class_counts, _ = np.histogram(labels, bins=num_classes)\n",
    "plt.bar(range(num_classes), class_counts)\n",
    "plt.xlabel(\"Class Label\")\n",
    "plt.ylabel(\"Number of Images\")\n",
    "plt.title(\"Distribution of Classes in Galaxy10\")\n",
    "plt.show()"
   ]
  },
  {
   "cell_type": "markdown",
   "id": "07515cb0-4291-42c7-99ac-a67d9a4038d7",
   "metadata": {},
   "source": [
    "## Model with 2 Conv layers"
   ]
  },
  {
   "cell_type": "code",
   "execution_count": 11,
   "id": "8ad7a0b8-8230-411c-b564-39b5e1cd0135",
   "metadata": {},
   "outputs": [
    {
     "name": "stdout",
     "output_type": "stream",
     "text": [
      "WARNING:tensorflow:From C:\\Users\\First One\\anaconda3\\envs\\ayat\\Lib\\site-packages\\keras\\src\\backend.py:873: The name tf.get_default_graph is deprecated. Please use tf.compat.v1.get_default_graph instead.\n",
      "\n",
      "WARNING:tensorflow:From C:\\Users\\First One\\anaconda3\\envs\\ayat\\Lib\\site-packages\\keras\\src\\layers\\pooling\\max_pooling2d.py:161: The name tf.nn.max_pool is deprecated. Please use tf.nn.max_pool2d instead.\n",
      "\n"
     ]
    }
   ],
   "source": [
    "model_2_conv = Sequential()\n",
    "model_2_conv.add(Conv2D(3, (5, 5), activation='relu', padding='same', input_shape=(256, 256, 3)))\n",
    "model_2_conv.add(MaxPooling2D((2, 2)))\n",
    "model_2_conv.add(Conv2D(8, (5, 5), activation='relu', padding='same'))\n",
    "model_2_conv.add(MaxPooling2D((2, 2)))\n",
    "model_2_conv.add(Flatten())\n",
    "model_2_conv.add(Dense(120, activation='relu'))\n",
    "model_2_conv.add(Dense(84, activation='relu'))\n",
    "model_2_conv.add(Dense(num_classes, activation='softmax'))"
   ]
  },
  {
   "cell_type": "code",
   "execution_count": 12,
   "id": "51e7f9dd-067a-47ee-8b73-36a2a4108705",
   "metadata": {},
   "outputs": [
    {
     "name": "stdout",
     "output_type": "stream",
     "text": [
      "WARNING:tensorflow:From C:\\Users\\First One\\anaconda3\\envs\\ayat\\Lib\\site-packages\\keras\\src\\optimizers\\__init__.py:309: The name tf.train.Optimizer is deprecated. Please use tf.compat.v1.train.Optimizer instead.\n",
      "\n"
     ]
    }
   ],
   "source": [
    "model_2_conv.compile(optimizer='adam', loss='sparse_categorical_crossentropy', metrics=['accuracy'])"
   ]
  },
  {
   "cell_type": "code",
   "execution_count": 13,
   "id": "9f59645c-4389-44a3-afda-9cab427fa740",
   "metadata": {},
   "outputs": [
    {
     "name": "stdout",
     "output_type": "stream",
     "text": [
      "Epoch 1/20\n",
      "WARNING:tensorflow:From C:\\Users\\First One\\anaconda3\\envs\\ayat\\Lib\\site-packages\\keras\\src\\utils\\tf_utils.py:492: The name tf.ragged.RaggedTensorValue is deprecated. Please use tf.compat.v1.ragged.RaggedTensorValue instead.\n",
      "\n",
      "WARNING:tensorflow:From C:\\Users\\First One\\anaconda3\\envs\\ayat\\Lib\\site-packages\\keras\\src\\engine\\base_layer_utils.py:384: The name tf.executing_eagerly_outside_functions is deprecated. Please use tf.compat.v1.executing_eagerly_outside_functions instead.\n",
      "\n",
      "355/355 [==============================] - 85s 233ms/step - loss: 2.0673 - accuracy: 0.2189 - val_loss: 1.8176 - val_accuracy: 0.3027\n",
      "Epoch 2/20\n",
      "355/355 [==============================] - 37s 105ms/step - loss: 1.6093 - accuracy: 0.4177 - val_loss: 1.5800 - val_accuracy: 0.4373\n",
      "Epoch 3/20\n",
      "355/355 [==============================] - 40s 111ms/step - loss: 1.3786 - accuracy: 0.5116 - val_loss: 1.5908 - val_accuracy: 0.4436\n",
      "Epoch 4/20\n",
      "355/355 [==============================] - 39s 110ms/step - loss: 1.1936 - accuracy: 0.5833 - val_loss: 1.6031 - val_accuracy: 0.4503\n",
      "Epoch 5/20\n",
      "355/355 [==============================] - 38s 108ms/step - loss: 1.0025 - accuracy: 0.6465 - val_loss: 1.7685 - val_accuracy: 0.4482\n",
      "Epoch 6/20\n",
      "355/355 [==============================] - 39s 111ms/step - loss: 0.8055 - accuracy: 0.7195 - val_loss: 1.8625 - val_accuracy: 0.4493\n",
      "Epoch 7/20\n",
      "355/355 [==============================] - 38s 106ms/step - loss: 0.6153 - accuracy: 0.7888 - val_loss: 2.2044 - val_accuracy: 0.4422\n",
      "Epoch 8/20\n",
      "355/355 [==============================] - 39s 109ms/step - loss: 0.4543 - accuracy: 0.8486 - val_loss: 2.5947 - val_accuracy: 0.4440\n",
      "Epoch 9/20\n",
      "355/355 [==============================] - 39s 109ms/step - loss: 0.3220 - accuracy: 0.8937 - val_loss: 2.9020 - val_accuracy: 0.4567\n",
      "Epoch 10/20\n",
      "355/355 [==============================] - 39s 110ms/step - loss: 0.2419 - accuracy: 0.9244 - val_loss: 3.2830 - val_accuracy: 0.4405\n",
      "Epoch 11/20\n",
      "355/355 [==============================] - 39s 111ms/step - loss: 0.1719 - accuracy: 0.9504 - val_loss: 3.8454 - val_accuracy: 0.4376\n",
      "Epoch 12/20\n",
      "355/355 [==============================] - 39s 109ms/step - loss: 0.1262 - accuracy: 0.9667 - val_loss: 4.2859 - val_accuracy: 0.4126\n",
      "Epoch 13/20\n",
      "355/355 [==============================] - 39s 111ms/step - loss: 0.1218 - accuracy: 0.9660 - val_loss: 4.2472 - val_accuracy: 0.4084\n",
      "Epoch 14/20\n",
      "355/355 [==============================] - 39s 111ms/step - loss: 0.0840 - accuracy: 0.9793 - val_loss: 4.4929 - val_accuracy: 0.4165\n",
      "Epoch 15/20\n",
      "355/355 [==============================] - 41s 115ms/step - loss: 0.0837 - accuracy: 0.9775 - val_loss: 4.8720 - val_accuracy: 0.4123\n",
      "Epoch 16/20\n",
      "355/355 [==============================] - 39s 111ms/step - loss: 0.0748 - accuracy: 0.9807 - val_loss: 4.8598 - val_accuracy: 0.4038\n",
      "Epoch 17/20\n",
      "355/355 [==============================] - 39s 110ms/step - loss: 0.0881 - accuracy: 0.9743 - val_loss: 4.7914 - val_accuracy: 0.4151\n",
      "Epoch 18/20\n",
      "355/355 [==============================] - 39s 110ms/step - loss: 0.0697 - accuracy: 0.9807 - val_loss: 5.2103 - val_accuracy: 0.4204\n",
      "Epoch 19/20\n",
      "355/355 [==============================] - 39s 110ms/step - loss: 0.0463 - accuracy: 0.9893 - val_loss: 5.2869 - val_accuracy: 0.4137\n",
      "Epoch 20/20\n",
      "355/355 [==============================] - 39s 109ms/step - loss: 0.0494 - accuracy: 0.9900 - val_loss: 5.7968 - val_accuracy: 0.4126\n"
     ]
    },
    {
     "data": {
      "text/plain": [
       "<keras.src.callbacks.History at 0x1ed843aff50>"
      ]
     },
     "execution_count": 13,
     "metadata": {},
     "output_type": "execute_result"
    }
   ],
   "source": [
    "model_2_conv.fit(x_train, y_train, epochs=20, validation_data=(x_val, y_val))"
   ]
  },
  {
   "cell_type": "code",
   "execution_count": 14,
   "id": "613a90d4-4992-4bf4-8222-0f578b5dda90",
   "metadata": {},
   "outputs": [
    {
     "name": "stdout",
     "output_type": "stream",
     "text": [
      "111/111 [==============================] - 3s 26ms/step\n"
     ]
    }
   ],
   "source": [
    "test_predictions_2 = model_2_conv.predict(x_test)\n",
    "test_predictions_2 = np.argmax(test_predictions_2, axis=1) "
   ]
  },
  {
   "cell_type": "code",
   "execution_count": 15,
   "id": "bb916c12-ff25-4545-9485-4479ce71e0cc",
   "metadata": {},
   "outputs": [
    {
     "name": "stdout",
     "output_type": "stream",
     "text": [
      "              precision    recall  f1-score   support\n",
      "\n",
      "         0.0       0.10      0.04      0.06       207\n",
      "         1.0       0.33      0.36      0.34       372\n",
      "         2.0       0.65      0.42      0.51       561\n",
      "         3.0       0.42      0.55      0.47       400\n",
      "         4.0       0.24      0.27      0.25        56\n",
      "         5.0       0.34      0.32      0.33       414\n",
      "         6.0       0.40      0.28      0.33       347\n",
      "         7.0       0.31      0.47      0.37       531\n",
      "         8.0       0.71      0.66      0.69       295\n",
      "         9.0       0.46      0.49      0.48       365\n",
      "\n",
      "    accuracy                           0.41      3548\n",
      "   macro avg       0.40      0.39      0.38      3548\n",
      "weighted avg       0.43      0.41      0.41      3548\n",
      "\n"
     ]
    }
   ],
   "source": [
    "print(classification_report(y_test, test_predictions_2))"
   ]
  },
  {
   "cell_type": "markdown",
   "id": "105362db-5ec5-46cb-aafd-46d9dc02ccc9",
   "metadata": {},
   "source": [
    "## Model with 3 Conv layers"
   ]
  },
  {
   "cell_type": "code",
   "execution_count": 16,
   "id": "57e0d123-50d5-4763-a31c-effe9141df89",
   "metadata": {},
   "outputs": [],
   "source": [
    "model_3_conv = Sequential()\n",
    "model_3_conv.add(Conv2D(6, (5, 5), activation='relu', padding='same', input_shape=(256, 256, 3)))\n",
    "model_3_conv.add(MaxPooling2D((2, 2)))\n",
    "model_3_conv.add(Conv2D(16, (5, 5), activation='relu', padding='same'))\n",
    "model_3_conv.add(MaxPooling2D((2, 2)))\n",
    "model_3_conv.add(Conv2D(32, (5, 5), activation='relu', padding='same'))  \n",
    "model_3_conv.add(MaxPooling2D((2, 2)))\n",
    "model_3_conv.add(Flatten())\n",
    "model_3_conv.add(Dense(120, activation='relu'))\n",
    "model_3_conv.add(Dense(84, activation='relu'))\n",
    "model_3_conv.add(Dense(num_classes, activation='softmax'))"
   ]
  },
  {
   "cell_type": "code",
   "execution_count": 17,
   "id": "ff8ebea8-d217-4bd4-81c0-47286e9f00a0",
   "metadata": {},
   "outputs": [],
   "source": [
    "model_3_conv.compile(optimizer='adam', loss='sparse_categorical_crossentropy', metrics=['accuracy'])"
   ]
  },
  {
   "cell_type": "code",
   "execution_count": 18,
   "id": "cdbe2bfc-d2d2-4955-9d16-0be5c69173da",
   "metadata": {},
   "outputs": [
    {
     "name": "stdout",
     "output_type": "stream",
     "text": [
      "Epoch 1/20\n",
      "355/355 [==============================] - 136s 362ms/step - loss: 1.9568 - accuracy: 0.2603 - val_loss: 1.6878 - val_accuracy: 0.3728\n",
      "Epoch 2/20\n",
      "355/355 [==============================] - 67s 188ms/step - loss: 1.5353 - accuracy: 0.4271 - val_loss: 1.4804 - val_accuracy: 0.4450\n",
      "Epoch 3/20\n",
      "355/355 [==============================] - 69s 195ms/step - loss: 1.3070 - accuracy: 0.5194 - val_loss: 1.4626 - val_accuracy: 0.4859\n",
      "Epoch 4/20\n",
      "355/355 [==============================] - 69s 194ms/step - loss: 1.0768 - accuracy: 0.6069 - val_loss: 1.4104 - val_accuracy: 0.5278\n",
      "Epoch 5/20\n",
      "355/355 [==============================] - 68s 190ms/step - loss: 0.8135 - accuracy: 0.7097 - val_loss: 1.6170 - val_accuracy: 0.5004\n",
      "Epoch 6/20\n",
      "355/355 [==============================] - 69s 193ms/step - loss: 0.5678 - accuracy: 0.8040 - val_loss: 1.7436 - val_accuracy: 0.4908\n",
      "Epoch 7/20\n",
      "355/355 [==============================] - 68s 190ms/step - loss: 0.3457 - accuracy: 0.8833 - val_loss: 2.3442 - val_accuracy: 0.4785\n",
      "Epoch 8/20\n",
      "355/355 [==============================] - 67s 188ms/step - loss: 0.1982 - accuracy: 0.9383 - val_loss: 3.0294 - val_accuracy: 0.4813\n",
      "Epoch 9/20\n",
      "355/355 [==============================] - 67s 189ms/step - loss: 0.1230 - accuracy: 0.9657 - val_loss: 3.3220 - val_accuracy: 0.4866\n",
      "Epoch 10/20\n",
      "355/355 [==============================] - 68s 191ms/step - loss: 0.0936 - accuracy: 0.9730 - val_loss: 3.1887 - val_accuracy: 0.4789\n",
      "Epoch 11/20\n",
      "355/355 [==============================] - 67s 189ms/step - loss: 0.0586 - accuracy: 0.9860 - val_loss: 4.1042 - val_accuracy: 0.4817\n",
      "Epoch 12/20\n",
      "355/355 [==============================] - 67s 190ms/step - loss: 0.0632 - accuracy: 0.9836 - val_loss: 3.9258 - val_accuracy: 0.4789\n",
      "Epoch 13/20\n",
      "355/355 [==============================] - 66s 186ms/step - loss: 0.0584 - accuracy: 0.9857 - val_loss: 4.3338 - val_accuracy: 0.4827\n",
      "Epoch 14/20\n",
      "355/355 [==============================] - 67s 188ms/step - loss: 0.0496 - accuracy: 0.9863 - val_loss: 4.1439 - val_accuracy: 0.4760\n",
      "Epoch 15/20\n",
      "355/355 [==============================] - 67s 189ms/step - loss: 0.0426 - accuracy: 0.9904 - val_loss: 4.4479 - val_accuracy: 0.4824\n",
      "Epoch 16/20\n",
      "355/355 [==============================] - 66s 185ms/step - loss: 0.0478 - accuracy: 0.9861 - val_loss: 4.6708 - val_accuracy: 0.4760\n",
      "Epoch 17/20\n",
      "355/355 [==============================] - 67s 188ms/step - loss: 0.0587 - accuracy: 0.9841 - val_loss: 4.6408 - val_accuracy: 0.4915\n",
      "Epoch 18/20\n",
      "355/355 [==============================] - 67s 187ms/step - loss: 0.0426 - accuracy: 0.9870 - val_loss: 4.3342 - val_accuracy: 0.4782\n",
      "Epoch 19/20\n",
      "355/355 [==============================] - 67s 187ms/step - loss: 0.0331 - accuracy: 0.9905 - val_loss: 4.4786 - val_accuracy: 0.4725\n",
      "Epoch 20/20\n",
      "355/355 [==============================] - 68s 192ms/step - loss: 0.0308 - accuracy: 0.9907 - val_loss: 4.7813 - val_accuracy: 0.4570\n"
     ]
    },
    {
     "data": {
      "text/plain": [
       "<keras.src.callbacks.History at 0x1eda1603c90>"
      ]
     },
     "execution_count": 18,
     "metadata": {},
     "output_type": "execute_result"
    }
   ],
   "source": [
    "model_3_conv.fit(x_train, y_train, epochs=20, validation_data=(x_val, y_val))"
   ]
  },
  {
   "cell_type": "code",
   "execution_count": 19,
   "id": "35688a45-e166-4916-b361-ba662a10c99c",
   "metadata": {},
   "outputs": [
    {
     "name": "stdout",
     "output_type": "stream",
     "text": [
      "111/111 [==============================] - 6s 43ms/step\n"
     ]
    }
   ],
   "source": [
    "test_predictions_3 = model_3_conv.predict(x_test)\n",
    "test_predictions_3 = np.argmax(test_predictions_3, axis=1)"
   ]
  },
  {
   "cell_type": "code",
   "execution_count": 20,
   "id": "fa072956-f9cc-4a5d-a758-787b5c2482da",
   "metadata": {},
   "outputs": [
    {
     "name": "stdout",
     "output_type": "stream",
     "text": [
      "              precision    recall  f1-score   support\n",
      "\n",
      "         0.0       0.14      0.23      0.18       207\n",
      "         1.0       0.44      0.38      0.41       372\n",
      "         2.0       0.64      0.64      0.64       561\n",
      "         3.0       0.48      0.38      0.42       400\n",
      "         4.0       0.34      0.27      0.30        56\n",
      "         5.0       0.39      0.39      0.39       414\n",
      "         6.0       0.39      0.47      0.42       347\n",
      "         7.0       0.35      0.35      0.35       531\n",
      "         8.0       0.76      0.65      0.70       295\n",
      "         9.0       0.62      0.59      0.60       365\n",
      "\n",
      "    accuracy                           0.46      3548\n",
      "   macro avg       0.45      0.43      0.44      3548\n",
      "weighted avg       0.48      0.46      0.47      3548\n",
      "\n"
     ]
    }
   ],
   "source": [
    "print(classification_report(y_test, test_predictions_3))"
   ]
  },
  {
   "cell_type": "markdown",
   "id": "470581e3-2a94-4dd3-86b5-64b9156effa7",
   "metadata": {},
   "source": [
    "## Model with 5 conv layers "
   ]
  },
  {
   "cell_type": "code",
   "execution_count": 21,
   "id": "052be81c-98c2-44da-ad25-a0216a1cae19",
   "metadata": {},
   "outputs": [],
   "source": [
    "model_5_conv = Sequential()\n",
    "model_5_conv.add(Conv2D(3, (5, 5), activation='relu', padding='same', input_shape=(256, 256, 3)))\n",
    "model_5_conv.add(MaxPooling2D((2, 2)))\n",
    "model_5_conv.add(Conv2D(8, (3, 3), activation='relu', padding='same'))\n",
    "model_5_conv.add(MaxPooling2D((2, 2)))\n",
    "model_5_conv.add(Conv2D(16, (5, 5), activation='relu', padding='same'))\n",
    "model_5_conv.add(MaxPooling2D((2, 2)))\n",
    "model_5_conv.add(Conv2D(32, (3, 3), activation='relu', padding='same'))\n",
    "model_5_conv.add(MaxPooling2D((2, 2)))\n",
    "model_5_conv.add(Conv2D(64, (5, 5), activation='relu', padding='same'))\n",
    "model_5_conv.add(MaxPooling2D((2, 2)))\n",
    "model_5_conv.add(Flatten())\n",
    "model_5_conv.add(Dense(120, activation='relu'))\n",
    "model_5_conv.add(Dense(84, activation='relu'))\n",
    "model_5_conv.add(Dense(num_classes, activation='softmax'))"
   ]
  },
  {
   "cell_type": "code",
   "execution_count": 22,
   "id": "3de9061d-a37e-4c8d-a18c-4ba15604ddc7",
   "metadata": {},
   "outputs": [],
   "source": [
    "model_5_conv.compile(optimizer='adam', loss='sparse_categorical_crossentropy', metrics=['accuracy'])"
   ]
  },
  {
   "cell_type": "code",
   "execution_count": 23,
   "id": "1346161d-4d14-4875-8bc9-53ae559e1161",
   "metadata": {},
   "outputs": [
    {
     "name": "stdout",
     "output_type": "stream",
     "text": [
      "Epoch 1/20\n",
      "355/355 [==============================] - 267s 743ms/step - loss: 2.0559 - accuracy: 0.2246 - val_loss: 1.7562 - val_accuracy: 0.3390\n",
      "Epoch 2/20\n",
      "355/355 [==============================] - 39s 109ms/step - loss: 1.6393 - accuracy: 0.3702 - val_loss: 1.5658 - val_accuracy: 0.3862\n",
      "Epoch 3/20\n",
      "355/355 [==============================] - 42s 118ms/step - loss: 1.4117 - accuracy: 0.4759 - val_loss: 1.3546 - val_accuracy: 0.5123\n",
      "Epoch 4/20\n",
      "355/355 [==============================] - 39s 109ms/step - loss: 1.2534 - accuracy: 0.5414 - val_loss: 1.3047 - val_accuracy: 0.5317\n",
      "Epoch 5/20\n",
      "355/355 [==============================] - 39s 109ms/step - loss: 1.1279 - accuracy: 0.5828 - val_loss: 1.2339 - val_accuracy: 0.5603\n",
      "Epoch 6/20\n",
      "355/355 [==============================] - 39s 110ms/step - loss: 1.0141 - accuracy: 0.6282 - val_loss: 1.2305 - val_accuracy: 0.5712\n",
      "Epoch 7/20\n",
      "355/355 [==============================] - 42s 119ms/step - loss: 0.9163 - accuracy: 0.6601 - val_loss: 1.2694 - val_accuracy: 0.5927\n",
      "Epoch 8/20\n",
      "355/355 [==============================] - 39s 111ms/step - loss: 0.8102 - accuracy: 0.7034 - val_loss: 1.3072 - val_accuracy: 0.5719\n",
      "Epoch 9/20\n",
      "355/355 [==============================] - 39s 109ms/step - loss: 0.7120 - accuracy: 0.7420 - val_loss: 1.4097 - val_accuracy: 0.5536\n",
      "Epoch 10/20\n",
      "355/355 [==============================] - 39s 110ms/step - loss: 0.6298 - accuracy: 0.7718 - val_loss: 1.4855 - val_accuracy: 0.5832\n",
      "Epoch 11/20\n",
      "355/355 [==============================] - 38s 108ms/step - loss: 0.5381 - accuracy: 0.8008 - val_loss: 1.6252 - val_accuracy: 0.5648\n",
      "Epoch 12/20\n",
      "355/355 [==============================] - 39s 109ms/step - loss: 0.4479 - accuracy: 0.8376 - val_loss: 1.7897 - val_accuracy: 0.5722\n",
      "Epoch 13/20\n",
      "355/355 [==============================] - 39s 110ms/step - loss: 0.3762 - accuracy: 0.8697 - val_loss: 2.0499 - val_accuracy: 0.5631\n",
      "Epoch 14/20\n",
      "355/355 [==============================] - 39s 110ms/step - loss: 0.3283 - accuracy: 0.8815 - val_loss: 2.1122 - val_accuracy: 0.5694\n",
      "Epoch 15/20\n",
      "355/355 [==============================] - 38s 107ms/step - loss: 0.2701 - accuracy: 0.9059 - val_loss: 2.2792 - val_accuracy: 0.5557\n",
      "Epoch 16/20\n",
      "355/355 [==============================] - 38s 106ms/step - loss: 0.2537 - accuracy: 0.9093 - val_loss: 2.6684 - val_accuracy: 0.5469\n",
      "Epoch 17/20\n",
      "355/355 [==============================] - 38s 106ms/step - loss: 0.2027 - accuracy: 0.9330 - val_loss: 2.5210 - val_accuracy: 0.5426\n",
      "Epoch 18/20\n",
      "355/355 [==============================] - 38s 107ms/step - loss: 0.1456 - accuracy: 0.9513 - val_loss: 2.8529 - val_accuracy: 0.5486\n",
      "Epoch 19/20\n",
      "355/355 [==============================] - 40s 113ms/step - loss: 0.1539 - accuracy: 0.9479 - val_loss: 2.9918 - val_accuracy: 0.5444\n",
      "Epoch 20/20\n",
      "355/355 [==============================] - 39s 110ms/step - loss: 0.1541 - accuracy: 0.9489 - val_loss: 2.9462 - val_accuracy: 0.5444\n"
     ]
    },
    {
     "data": {
      "text/plain": [
       "<keras.src.callbacks.History at 0x1edc283e8d0>"
      ]
     },
     "execution_count": 23,
     "metadata": {},
     "output_type": "execute_result"
    }
   ],
   "source": [
    "model_5_conv.fit(x_train, y_train, epochs=20, validation_data=(x_val, y_val))"
   ]
  },
  {
   "cell_type": "code",
   "execution_count": 24,
   "id": "fc8a68fc-98e0-4525-8be8-09c298ae0a30",
   "metadata": {},
   "outputs": [
    {
     "name": "stdout",
     "output_type": "stream",
     "text": [
      "111/111 [==============================] - 4s 31ms/step\n"
     ]
    }
   ],
   "source": [
    "test_predictions_5 = model_5_conv.predict(x_test)\n",
    "test_predictions_5 = np.argmax(test_predictions_5, axis=1) "
   ]
  },
  {
   "cell_type": "code",
   "execution_count": 25,
   "id": "dbe407fc-13d7-4b43-a215-bf05f47c6b52",
   "metadata": {},
   "outputs": [
    {
     "name": "stdout",
     "output_type": "stream",
     "text": [
      "              precision    recall  f1-score   support\n",
      "\n",
      "         0.0       0.18      0.16      0.17       207\n",
      "         1.0       0.61      0.48      0.53       372\n",
      "         2.0       0.74      0.82      0.78       561\n",
      "         3.0       0.70      0.66      0.68       400\n",
      "         4.0       0.28      0.41      0.34        56\n",
      "         5.0       0.41      0.39      0.40       414\n",
      "         6.0       0.41      0.46      0.44       347\n",
      "         7.0       0.38      0.35      0.36       531\n",
      "         8.0       0.72      0.76      0.74       295\n",
      "         9.0       0.61      0.67      0.64       365\n",
      "\n",
      "    accuracy                           0.55      3548\n",
      "   macro avg       0.50      0.52      0.51      3548\n",
      "weighted avg       0.54      0.55      0.54      3548\n",
      "\n"
     ]
    }
   ],
   "source": [
    "print(classification_report(y_test, test_predictions_5))"
   ]
  },
  {
   "cell_type": "markdown",
   "id": "9f789b7b-b008-4192-af90-48b5a8e0ee91",
   "metadata": {},
   "source": [
    "## Model with 6 Conv layers"
   ]
  },
  {
   "cell_type": "code",
   "execution_count": 37,
   "id": "5310ee21-954d-4ab5-b7a5-1b2b2b6b7d4e",
   "metadata": {},
   "outputs": [],
   "source": [
    "model_6_conv = Sequential()\n",
    "model_6_conv.add(Conv2D(3, (5, 5), activation='relu', padding='same', input_shape=(256, 256, 3)))\n",
    "model_6_conv.add(MaxPooling2D((2, 2)))\n",
    "model_6_conv.add(Conv2D(8, (3, 3), activation='relu', padding='same'))\n",
    "model_6_conv.add(MaxPooling2D((2, 2)))  \n",
    "model_6_conv.add(Conv2D(16, (5, 5), activation='relu', padding='same'))\n",
    "model_6_conv.add(MaxPooling2D((2, 2)))\n",
    "model_6_conv.add(Conv2D(32, (3, 3), activation='relu', padding='same'))\n",
    "model_6_conv.add(MaxPooling2D((2, 2)))\n",
    "model_6_conv.add(Conv2D(64, (5, 5), activation='relu', padding='same'))\n",
    "model_6_conv.add(MaxPooling2D((2, 2)))\n",
    "model_6_conv.add(Conv2D(128, (3, 3), activation='relu', padding='same'))\n",
    "model_6_conv.add(MaxPooling2D((2, 2)))\n",
    "model_6_conv.add(Flatten())\n",
    "model_6_conv.add(Dense(120, activation='relu'))\n",
    "model_6_conv.add(Dense(84, activation='relu'))  \n",
    "model_6_conv.add(Dense(num_classes, activation='softmax'))"
   ]
  },
  {
   "cell_type": "code",
   "execution_count": 38,
   "id": "9680a605-8da8-4721-a705-5e6540e64611",
   "metadata": {},
   "outputs": [],
   "source": [
    "model_6_conv.compile(optimizer='adam', loss='sparse_categorical_crossentropy', metrics=['accuracy'])"
   ]
  },
  {
   "cell_type": "code",
   "execution_count": 39,
   "id": "7c042cd7-11da-42d5-8613-5980e11637af",
   "metadata": {},
   "outputs": [
    {
     "name": "stdout",
     "output_type": "stream",
     "text": [
      "Epoch 1/20\n",
      "355/355 [==============================] - 89s 237ms/step - loss: 1.9974 - accuracy: 0.2429 - val_loss: 1.6463 - val_accuracy: 0.3517\n",
      "Epoch 2/20\n",
      "355/355 [==============================] - 38s 107ms/step - loss: 1.4643 - accuracy: 0.4478 - val_loss: 1.3809 - val_accuracy: 0.4817\n",
      "Epoch 3/20\n",
      "355/355 [==============================] - 41s 115ms/step - loss: 1.2324 - accuracy: 0.5537 - val_loss: 1.1589 - val_accuracy: 0.5772\n",
      "Epoch 4/20\n",
      "355/355 [==============================] - 43s 121ms/step - loss: 1.0755 - accuracy: 0.6116 - val_loss: 1.1599 - val_accuracy: 0.5891\n",
      "Epoch 5/20\n",
      "355/355 [==============================] - 43s 120ms/step - loss: 0.9675 - accuracy: 0.6493 - val_loss: 1.1389 - val_accuracy: 0.6240\n",
      "Epoch 6/20\n",
      "355/355 [==============================] - 41s 114ms/step - loss: 0.8621 - accuracy: 0.6932 - val_loss: 1.0156 - val_accuracy: 0.6572\n",
      "Epoch 7/20\n",
      "355/355 [==============================] - 43s 121ms/step - loss: 0.7481 - accuracy: 0.7327 - val_loss: 1.1151 - val_accuracy: 0.6230\n",
      "Epoch 8/20\n",
      "355/355 [==============================] - 41s 115ms/step - loss: 0.6670 - accuracy: 0.7595 - val_loss: 1.0841 - val_accuracy: 0.6459\n",
      "Epoch 9/20\n",
      "355/355 [==============================] - 45s 127ms/step - loss: 0.5658 - accuracy: 0.8007 - val_loss: 1.1803 - val_accuracy: 0.6441\n",
      "Epoch 10/20\n",
      "355/355 [==============================] - 45s 128ms/step - loss: 0.4899 - accuracy: 0.8212 - val_loss: 1.1929 - val_accuracy: 0.6554\n",
      "Epoch 11/20\n",
      "355/355 [==============================] - 41s 116ms/step - loss: 0.4203 - accuracy: 0.8512 - val_loss: 1.2492 - val_accuracy: 0.6684\n",
      "Epoch 12/20\n",
      "355/355 [==============================] - 39s 111ms/step - loss: 0.3373 - accuracy: 0.8830 - val_loss: 1.3867 - val_accuracy: 0.6399\n",
      "Epoch 13/20\n",
      "355/355 [==============================] - 40s 114ms/step - loss: 0.2959 - accuracy: 0.8967 - val_loss: 1.5514 - val_accuracy: 0.6483\n",
      "Epoch 14/20\n",
      "355/355 [==============================] - 40s 112ms/step - loss: 0.2535 - accuracy: 0.9122 - val_loss: 1.6644 - val_accuracy: 0.6476\n",
      "Epoch 15/20\n",
      "355/355 [==============================] - 40s 112ms/step - loss: 0.2033 - accuracy: 0.9324 - val_loss: 1.7157 - val_accuracy: 0.6374\n",
      "Epoch 16/20\n",
      "355/355 [==============================] - 41s 114ms/step - loss: 0.1884 - accuracy: 0.9367 - val_loss: 1.9722 - val_accuracy: 0.6304\n",
      "Epoch 17/20\n",
      "355/355 [==============================] - 41s 114ms/step - loss: 0.2022 - accuracy: 0.9320 - val_loss: 2.0551 - val_accuracy: 0.6159\n",
      "Epoch 18/20\n",
      "355/355 [==============================] - 40s 113ms/step - loss: 0.1574 - accuracy: 0.9466 - val_loss: 2.1857 - val_accuracy: 0.6261\n",
      "Epoch 19/20\n",
      "355/355 [==============================] - 40s 114ms/step - loss: 0.1384 - accuracy: 0.9525 - val_loss: 2.1601 - val_accuracy: 0.6314\n",
      "Epoch 20/20\n",
      "355/355 [==============================] - 41s 114ms/step - loss: 0.1460 - accuracy: 0.9481 - val_loss: 2.0599 - val_accuracy: 0.6357\n"
     ]
    },
    {
     "data": {
      "text/plain": [
       "<keras.src.callbacks.History at 0x1edc7a16510>"
      ]
     },
     "execution_count": 39,
     "metadata": {},
     "output_type": "execute_result"
    }
   ],
   "source": [
    "model_6_conv.fit(x_train, y_train, epochs=20, validation_data=(x_val, y_val))"
   ]
  },
  {
   "cell_type": "code",
   "execution_count": 40,
   "id": "06b9a191-5801-4a5e-a53d-cb02dbfd7156",
   "metadata": {},
   "outputs": [
    {
     "name": "stdout",
     "output_type": "stream",
     "text": [
      "111/111 [==============================] - 4s 37ms/step\n"
     ]
    }
   ],
   "source": [
    "test_predictions_6 = model_6_conv.predict(x_test)\n",
    "test_predictions_6 = np.argmax(test_predictions_6, axis=1) "
   ]
  },
  {
   "cell_type": "code",
   "execution_count": 41,
   "id": "ab387cc1-bc2f-48fc-b8d0-6a867bb39b0b",
   "metadata": {},
   "outputs": [
    {
     "name": "stdout",
     "output_type": "stream",
     "text": [
      "              precision    recall  f1-score   support\n",
      "\n",
      "         0.0       0.30      0.21      0.25       207\n",
      "         1.0       0.75      0.63      0.69       377\n",
      "         2.0       0.81      0.84      0.82       496\n",
      "         3.0       0.71      0.77      0.74       421\n",
      "         4.0       0.47      0.46      0.47        65\n",
      "         5.0       0.64      0.53      0.58       414\n",
      "         6.0       0.53      0.73      0.61       402\n",
      "         7.0       0.43      0.42      0.43       497\n",
      "         8.0       0.77      0.83      0.79       288\n",
      "         9.0       0.78      0.73      0.75       381\n",
      "\n",
      "    accuracy                           0.65      3548\n",
      "   macro avg       0.62      0.62      0.61      3548\n",
      "weighted avg       0.64      0.65      0.64      3548\n",
      "\n"
     ]
    }
   ],
   "source": [
    "print(classification_report(y_test, test_predictions_6))"
   ]
  },
  {
   "cell_type": "code",
   "execution_count": 42,
   "id": "475f5ca2-cb78-42a8-a8d3-35a817ee0616",
   "metadata": {},
   "outputs": [
    {
     "name": "stderr",
     "output_type": "stream",
     "text": [
      "C:\\Users\\First One\\anaconda3\\envs\\ayat\\Lib\\site-packages\\keras\\src\\engine\\training.py:3103: UserWarning: You are saving your model as an HDF5 file via `model.save()`. This file format is considered legacy. We recommend using instead the native Keras format, e.g. `model.save('my_model.keras')`.\n"
     ]
    }
   ],
   "source": [
    "model_6_conv.save('best_model.h5')"
   ]
  },
  {
   "cell_type": "markdown",
   "id": "39beb2ab-97b9-4d3d-a848-d55d554de32d",
   "metadata": {},
   "source": [
    "<div class=\"alert alert-block alert-info\">\r\n",
    "<b>Notes:</b>\r\n",
    "<br>1. I chose the best model based on the weighted average of F1-score.\r\n",
    "<br>2. I experimented with different numbers of epochs: 10, 20, 30, 50. \r\n",
    "   20 epochs performed better than 10, but the performance did not improve further with more epochs.\r\n",
    "<br>3. I tried training models with and without padding. Models with padding performed better.\r\n",
    "<br>4. I added dropout layers to the last two models, but they performed s task.\r\n",
    "</div>\r\n",
    "</div>\r\n"
   ]
  },
  {
   "cell_type": "code",
   "execution_count": null,
   "id": "1398c58f-b20a-4c16-b8d7-4056c6ea19dd",
   "metadata": {},
   "outputs": [],
   "source": []
  }
 ],
 "metadata": {
  "kernelspec": {
   "display_name": "Python 3 (ipykernel)",
   "language": "python",
   "name": "python3"
  },
  "language_info": {
   "codemirror_mode": {
    "name": "ipython",
    "version": 3
   },
   "file_extension": ".py",
   "mimetype": "text/x-python",
   "name": "python",
   "nbconvert_exporter": "python",
   "pygments_lexer": "ipython3",
   "version": "3.11.7"
  }
 },
 "nbformat": 4,
 "nbformat_minor": 5
}
